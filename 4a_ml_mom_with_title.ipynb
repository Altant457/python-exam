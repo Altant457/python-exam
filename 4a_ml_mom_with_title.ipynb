{
 "cells": [
  {
   "cell_type": "markdown",
   "id": "f490409d-d93b-4a72-8730-05ff0b2a4201",
   "metadata": {},
   "source": []
  },
  {
   "cell_type": "code",
   "execution_count": 1,
   "id": "7b1cfa11-8153-4fa5-8edf-fcd9f487d48c",
   "metadata": {
    "ExecuteTime": {
     "start_time": "2023-05-31T02:56:57.121119Z",
     "end_time": "2023-05-31T02:57:31.289508Z"
    }
   },
   "outputs": [
    {
     "name": "stdout",
     "output_type": "stream",
     "text": [
      "32\n",
      "[' ' \"'\" ',' 'A' 'C' 'E' 'F' 'G' 'I' 'M' 'P' 'R' 'S' '[' ']' 'a' 'c' 'd'\n",
      " 'e' 'g' 'i' 'l' 'm' 'n' 'o' 'p' 'r' 's' 't' 'u' 'v' 'y']\n"
     ]
    }
   ],
   "source": [
    "import pandas as pd\n",
    "from sklearn.preprocessing import MultiLabelBinarizer\n",
    "from sklearn.model_selection import train_test_split\n",
    "from sklearn.multioutput import MultiOutputClassifier\n",
    "from sklearn.ensemble import RandomForestClassifier\n",
    "import numpy as np\n",
    "import matplotlib.pyplot as plt\n",
    "\n",
    "df = pd.read_csv('numeric_data.csv')\n",
    "\n",
    "# Split the data into X (features) and y (target variable)\n",
    "X = df.drop(['Description', 'Genre', 'Processed_Description'], axis=1)  \n",
    "X = pd.get_dummies(X, columns=['Title'])  # One-hot encode the Title column\n",
    "y = df['Genre']  # Target variable: Genre column\n",
    "\n",
    "# Create an instance of MultiLabelBinarizer\n",
    "mlb = MultiLabelBinarizer()\n",
    "\n",
    "# Fit and transform the multi-label data\n",
    "y_encoded = mlb.fit_transform(y)\n",
    "\n",
    "# Print the shape of the encoded labels\n",
    "print(y_encoded.shape[1])\n",
    "\n",
    "# Get the generated class labels\n",
    "genre_labels = mlb.classes_\n",
    "print(genre_labels)"
   ]
  },
  {
   "cell_type": "code",
   "execution_count": 2,
   "id": "1efdc7e1-6c8c-48e6-9da5-f09930336594",
   "metadata": {
    "ExecuteTime": {
     "start_time": "2023-05-31T02:57:31.360369Z",
     "end_time": "2023-05-31T02:59:42.675790Z"
    }
   },
   "outputs": [
    {
     "name": "stdout",
     "output_type": "stream",
     "text": [
      "Accuracy: 0.05846774193548387\n"
     ]
    }
   ],
   "source": [
    "# Split the data into training and testing sets\n",
    "X_train, X_test, y_train, y_test = train_test_split(X, y_encoded, test_size=0.2, random_state=42)\n",
    "\n",
    "# Create an instance of the base classifier\n",
    "base_classifier = RandomForestClassifier()\n",
    "\n",
    "# Create an instance of the MultiOutputClassifier\n",
    "multi_output_classifier = MultiOutputClassifier(base_classifier)\n",
    "\n",
    "# Fit the MultiOutputClassifier on the training data\n",
    "multi_output_classifier.fit(X_train, y_train)\n",
    "\n",
    "# Make predictions on the test data\n",
    "y_pred = multi_output_classifier.predict(X_test)\n",
    "\n",
    "# Evaluate the accuracy\n",
    "accuracy = multi_output_classifier.score(X_test, y_test)\n",
    "\n",
    "# Print the accuracy\n",
    "print(\"Accuracy:\", accuracy)"
   ]
  },
  {
   "cell_type": "code",
   "execution_count": 2,
   "id": "50074fc0-92dc-41c0-b2ce-90cbeeed30fe",
   "metadata": {
    "ExecuteTime": {
     "start_time": "2023-05-31T02:59:42.676330Z",
     "end_time": "2023-05-31T02:59:42.680063Z"
    }
   },
   "outputs": [],
   "source": []
  }
 ],
 "metadata": {
  "kernelspec": {
   "display_name": "Python 3 (ipykernel)",
   "language": "python",
   "name": "python3"
  },
  "language_info": {
   "codemirror_mode": {
    "name": "ipython",
    "version": 3
   },
   "file_extension": ".py",
   "mimetype": "text/x-python",
   "name": "python",
   "nbconvert_exporter": "python",
   "pygments_lexer": "ipython3",
   "version": "3.10.8"
  }
 },
 "nbformat": 4,
 "nbformat_minor": 5
}
