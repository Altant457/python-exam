{
 "cells": [
  {
   "cell_type": "code",
   "execution_count": 8,
   "id": "2f6cd5a1-c688-48ca-abbe-3a259304f0de",
   "metadata": {},
   "outputs": [],
   "source": [
    "from bs4 import BeautifulSoup\n",
    "import requests\n",
    "import pandas as pd\n",
    "\n",
    "response = requests.get('https://store.steampowered.com/search/?sort_by=Released_DESC&category1=998&supportedlang=english&ndl=1')\n",
    "\n",
    "soup = BeautifulSoup(response.content, 'html.parser')"
   ]
  },
  {
   "cell_type": "code",
   "execution_count": 9,
   "id": "b5ae3daf-796d-48af-a32f-90851889e0aa",
   "metadata": {},
   "outputs": [],
   "source": [
    "# Exctract individual game links on the search page\n",
    "\n",
    "result_rows_div = soup.find('div', id='search_resultsRows')\n",
    "\n",
    "a_elements = result_rows_div.find_all('a')\n",
    "\n",
    "links_list = [] # links to every game\n",
    "\n",
    "for a_element in a_elements:\n",
    "    link = a_element['href']\n",
    "    links_list.append(link)"
   ]
  },
  {
   "cell_type": "code",
   "execution_count": null,
   "id": "7913ec43-35d2-482e-9204-106e1bca4af6",
   "metadata": {},
   "outputs": [],
   "source": [
    "# extract title, description and genres on individual game pages\n",
    "game_data = []\n",
    "\n",
    "for link in links_list:\n",
    "    response = requests.get(link)\n",
    "    soup = BeautifulSoup(response.content, 'html.parser')\n",
    "\n",
    "    game_title = soup.find('div', {'class': 'apphub_AppName'}).get_text(strip=True)\n",
    "    game_description = soup.find('div', {'class': 'game_description_snippet'}).get_text(strip=True)\n",
    "\n",
    "    genre_div = soup.find('div', id='genresAndManufacturer')\n",
    "    first_span = genre_div.find('span')\n",
    "\n",
    "    game_genre_list = []  # Create a new list for each game\n",
    "\n",
    "    if first_span:\n",
    "        a_elements_in_span = first_span.find_all('a')\n",
    "        for a_element in a_elements_in_span:\n",
    "            genre = a_element.text\n",
    "            game_genre_list.append(genre)\n",
    "\n",
    "    game_data.append({'Title': game_title, 'Description': game_description, 'Genre': game_genre_list})\n",
    "\n",
    "df = pd.DataFrame(game_data)\n",
    "\n",
    "df"
   ]
  },
  {
   "cell_type": "code",
   "execution_count": 7,
   "id": "2a9e65b1-babf-4b4c-9506-fa0bc0a8094f",
   "metadata": {},
   "outputs": [],
   "source": [
    "df.to_csv('steam_games-Copy1.csv', mode='a', header=False, index=False)"
   ]
  },
  {
   "cell_type": "code",
   "execution_count": null,
   "id": "3361a96b-7b30-4c13-b0de-565ece47b944",
   "metadata": {},
   "outputs": [],
   "source": []
  }
 ],
 "metadata": {
  "kernelspec": {
   "display_name": "Python 3 (ipykernel)",
   "language": "python",
   "name": "python3"
  },
  "language_info": {
   "codemirror_mode": {
    "name": "ipython",
    "version": 3
   },
   "file_extension": ".py",
   "mimetype": "text/x-python",
   "name": "python",
   "nbconvert_exporter": "python",
   "pygments_lexer": "ipython3",
   "version": "3.10.8"
  }
 },
 "nbformat": 4,
 "nbformat_minor": 5
}
