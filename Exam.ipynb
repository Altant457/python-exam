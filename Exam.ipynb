{
 "cells": [
  {
   "cell_type": "code",
   "execution_count": null,
   "id": "eeecd21a-20fa-4ce4-a938-b46b9bd3e9aa",
   "metadata": {},
   "outputs": [
    {
     "name": "stdout",
     "output_type": "stream",
     "text": [
      "Help on function get_all_file_names in module modules.utils:\n",
      "\n",
      "get_all_file_names(folderpath, out='output.txt')\n",
      "    Takes a path to a folder and writes all filenames\n",
      "    recursively including subfolders.\n",
      "    \n",
      "            :param folderpath: str\n",
      "                The folder which contens are going to be\n",
      "                written to the output file.\n",
      "                \n",
      "            :param out: str\n",
      "                The file to write to. Defaults to\n",
      "                \"output.txt\" in the current directory.\n",
      "                If the file exists, it will be overwritten,\n",
      "                else it will be created.\n",
      "\n"
     ]
    }
   ],
   "source": [
    "from modules import utils\n",
    "help(utils.get_all_file_names)"
   ]
  },
  {
   "cell_type": "code",
   "execution_count": null,
   "id": "86c7b990",
   "metadata": {},
   "outputs": [],
   "source": []
  }
 ],
 "metadata": {
  "kernelspec": {
   "display_name": "Python 3 (ipykernel)",
   "language": "python",
   "name": "python3"
  },
  "language_info": {
   "codemirror_mode": {
    "name": "ipython",
    "version": 3
   },
   "file_extension": ".py",
   "mimetype": "text/x-python",
   "name": "python",
   "nbconvert_exporter": "python",
   "pygments_lexer": "ipython3",
   "version": "3.10.6"
  }
 },
 "nbformat": 4,
 "nbformat_minor": 5
}
