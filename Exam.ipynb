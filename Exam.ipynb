{
 "cells": [
  {
   "cell_type": "code",
   "execution_count": 47,
   "id": "eeecd21a-20fa-4ce4-a938-b46b9bd3e9aa",
   "metadata": {},
   "outputs": [
    {
     "name": "stdin",
     "output_type": "stream",
     "text": [
      "Input SteamID:  Fizken_\n"
     ]
    },
    {
     "name": "stdout",
     "output_type": "stream",
     "text": [
      "\n",
      "Game #1/12\n",
      "Fallout 4\n",
      "Bethesda Game Studios, the award-winning creators of Fallout 3 and The Elder Scrolls V: Skyrim, welcome you to the world of Fallout 4 – their most ambitious game ever, and the next generation of open-world gaming.\n",
      "Genres: RPG\n",
      "\n",
      "Game #2/12\n",
      "Mafia III: Definitive Edition\n",
      "After Lincoln Clay's surrogate family, the black mob, is betrayed and killed by the Italian Mafia, Lincoln builds a new family and blazes a path of revenge through the Mafioso responsible.\n",
      "Genres: Action, Adventure\n",
      "\n",
      "Game #3/12\n",
      "Heroes® of Might & Magic® III - HD Edition\n",
      "The most popular Heroes® title of all time is back in HD! Fifteen years later, rediscover the epic tale of Queen Catherine Ironfist, as she re-embarks on her critically acclaimed quest to unite her ravaged homeland and re-conquer the kingdom of Erathia.\n",
      "Genres: RPG, Strategy\n",
      "\n",
      "Game #4/12\n",
      "Stardew Valley\n",
      "You've inherited your grandfather's old farm plot in Stardew Valley. Armed with hand-me-down tools and a few coins, you set out to begin your new life. Can you learn to live off the land and turn these overgrown fields into a thriving home?\n",
      "Genres: Indie, RPG, Simulation\n",
      "\n",
      "Game #5/12\n",
      "Warhammer: Vermintide 2\n",
      "The critically acclaimed Vermintide 2 is a visually stunning and groundbreaking melee action game pushing the boundaries of the first person co-op genre. Join the fight now!\n",
      "Genres: Action, Indie\n",
      "\n"
     ]
    },
    {
     "name": "stdin",
     "output_type": "stream",
     "text": [
      "Continue (Y/N)?  n\n"
     ]
    },
    {
     "name": "stdout",
     "output_type": "stream",
     "text": [
      "Choose a game to get recommendations based on that game\n",
      "You choose by typing in the number that is at the start of each section\n"
     ]
    },
    {
     "name": "stdin",
     "output_type": "stream",
     "text": [
      "Input number:  5\n"
     ]
    },
    {
     "name": "stdout",
     "output_type": "stream",
     "text": [
      "\n",
      "#1: Crimson Earth 2\n",
      "#2: Chernomeat Survival Game\n",
      "#3: One More Night: BiO Clinic\n",
      "#4: Trials of Wilderness\n",
      "#5: Stranded Alone\n",
      "#6: Uncanny Islands\n",
      "#7: Damnation City of Death\n",
      "#8: System Shock 2\n",
      "#9: Plat4mer\n",
      "#10: Lost Shipwreck\n"
     ]
    }
   ],
   "source": [
    "%reload_ext autoreload\n",
    "%autoreload 2\n",
    "from modules import utils\n",
    "from modules.scrape import get_game_details_from_appID, get_appID\n",
    "from modules.scrapereview import get_reviews\n",
    "from modules.steamutils import get_recommendations\n",
    "\n",
    "steamID = input(\"Input SteamID: \")\n",
    "print()\n",
    "reviews = get_reviews(steamID)\n",
    "i = 1\n",
    "game_dict = dict()\n",
    "try:\n",
    "    for review in reviews:\n",
    "        appName, appDesc, genres = get_game_details_from_appID(review.a['href'].split('/')[6])\n",
    "        try:\n",
    "            appName = appName.string\n",
    "            game_dict[i] = appName\n",
    "            appDesc = appDesc.string.strip()\n",
    "            print(f\"Game #{i}/{len(reviews)}\")\n",
    "            print(appName)\n",
    "            print(appDesc)\n",
    "            print(f\"Genres: {', '.join(genres)}\\n\")\n",
    "        except AttributeError:\n",
    "            print(f\"Review #{i}/{len(reviews)}\")\n",
    "            print(appName)\n",
    "            print(f\"Genres: {', '.join(genres)}\\n\")\n",
    "        if i % 5 == 0 and i < len(reviews)-2:\n",
    "            has_answered = False\n",
    "            while not has_answered:\n",
    "                ans = input(\"Continue (Y/N)? \")\n",
    "                if ans == \"y\" or ans == \"Y\":\n",
    "                    has_answered = True\n",
    "                    print()\n",
    "                    continue\n",
    "                elif ans == \"n\" or ans == \"N\":\n",
    "                    has_answered = True\n",
    "                    raise StopIteration\n",
    "        i += 1\n",
    "except StopIteration:\n",
    "    pass\n",
    "print(\"Choose a game to get recommendations based on that game\")\n",
    "print(\"You choose by typing in the number that is at the start of each section\")\n",
    "choice = int(input(\"Input number: \"))\n",
    "print()\n",
    "rec_list = get_recommendations(game_dict[choice])\n",
    "for i in range(len(rec_list)):\n",
    "    print(f\"#{i+1}: {rec_list[i]}\")"
   ]
  },
  {
   "cell_type": "code",
   "execution_count": null,
   "id": "7ba8df7c-3936-4e92-8b8f-3d604f2008df",
   "metadata": {},
   "outputs": [],
   "source": []
  }
 ],
 "metadata": {
  "kernelspec": {
   "display_name": "Python 3 (ipykernel)",
   "language": "python",
   "name": "python3"
  },
  "language_info": {
   "codemirror_mode": {
    "name": "ipython",
    "version": 3
   },
   "file_extension": ".py",
   "mimetype": "text/x-python",
   "name": "python",
   "nbconvert_exporter": "python",
   "pygments_lexer": "ipython3",
   "version": "3.10.6"
  }
 },
 "nbformat": 4,
 "nbformat_minor": 5
}
