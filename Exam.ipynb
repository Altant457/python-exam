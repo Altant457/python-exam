{
 "cells": [
  {
   "cell_type": "code",
   "execution_count": 28,
   "id": "6eb8803f-93a5-496a-82e0-bbe4afe2700d",
   "metadata": {},
   "outputs": [
    {
     "data": {
      "text/plain": [
       "['SteelLIFE',\n",
       " 'SurvivalZ',\n",
       " 'Zombie City Defense 2',\n",
       " 'Master of Mutations',\n",
       " 'Torn Earth',\n",
       " 'Virus Petya',\n",
       " 'NightZ',\n",
       " 'Cube Defense',\n",
       " 'The Region',\n",
       " 'EBOLA']"
      ]
     },
     "execution_count": 28,
     "metadata": {},
     "output_type": "execute_result"
    }
   ],
   "source": [
    "# https://www.kaggle.com/code/fetenbasak/content-based-recommendation-game-recommender\n",
    "\n",
    "import numpy as np\n",
    "import pandas as pd\n",
    "from sklearn.feature_extraction.text import TfidfVectorizer\n",
    "from sklearn.metrics.pairwise import cosine_similarity\n",
    "\n",
    "df = pd.read_csv('steam_games_dataset_kaggle.csv')\n",
    "df1 = df[['name', 'desc_snippet', 'popular_tags', 'genre', 'original_price']]\n",
    "df2 = pd.DataFrame(df1.dropna())\n",
    "\n",
    "tfidf = TfidfVectorizer(stop_words='english')\n",
    "tfidf_matrix = tfidf.fit_transform(df2['desc_snippet'])\n",
    "tfidf_matrix.toarray()\n",
    "\n",
    "cosine_sim = cosine_similarity(tfidf_matrix,\n",
    "                               tfidf_matrix)\n",
    "\n",
    "indices = pd.Series(df2.index, index=df2['name'])\n",
    "indices.index.value_counts()\n",
    "indices = indices[~indices.index.duplicated(keep='last')]\n",
    "\n",
    "def steam_game_recommender(title):\n",
    "    indices = pd.Series(df2.index, index=df2['name'])\n",
    "    indices = indices[~indices.index.duplicated(keep='last')]\n",
    "    game_index = indices[title]\n",
    "    similarity_scores = pd.DataFrame(cosine_sim[game_index], columns=[\"score\"])\n",
    "    game_indices = similarity_scores.sort_values(\"score\", ascending=False)[1:11].index\n",
    "    return df2['name'].iloc[game_indices].tolist()\n",
    "\n",
    "steam_game_recommender(\"DayZ\")"
   ]
  },
  {
   "cell_type": "code",
   "execution_count": 3,
   "id": "eeecd21a-20fa-4ce4-a938-b46b9bd3e9aa",
   "metadata": {},
   "outputs": [
    {
     "name": "stdin",
     "output_type": "stream",
     "text": [
      "Input SteamID:  PEYOTEISGOODFORYOU\n"
     ]
    },
    {
     "name": "stdout",
     "output_type": "stream",
     "text": [
      "Review #1/20\n",
      "Wreckfest\n",
      "Wreckfest is a demolition derby themed racing game with soft-body damage modeling, sophisticated driving dynamics and in-depth vehicle upgrading, featuring both demolition derbies and more traditional track races. It’s all about fun, breakneck racing and over-the-top crashes.\n",
      "Genres: Action, Indie, Racing, Simulation, Sports\n",
      "\n",
      "Review #2/20\n",
      "Ready or Not\n",
      "Ready or Not is an intense, tactical, first-person shooter that depicts a modern-day world in which SWAT police units are called to defuse hostile and confronting situations.\n",
      "Genres: Action, Adventure, Indie, Early Access\n",
      "\n",
      "Review #3/20\n",
      "Warhammer 40,000: Darktide\n",
      "Take back the city of Tertium from hordes of bloodthirsty foes in this intense and brutal action shooter. Warhammer 40,000: Darktide is the new co-op focused experience from the award-winning team behind the Vermintide series. As Tertium falls, Rejects Will Rise.\n",
      "Genres: Action, Adventure, Indie\n",
      "\n",
      "Review #4/20\n",
      "I MAED A GAM3 W1TH Z0MB1ES 1N IT!!!1\n",
      "A top down twin stick zombie slaying shooter that you are sure to play again and again!\n",
      "Genres: Action, Casual, Free to Play, Indie\n",
      "\n",
      "Review #5/20\n",
      "Premium Bowling\n",
      "Premium Bowling is as close to real bowling as you'll get without picking up a physical bowling ball.\n",
      "Genres: Indie, Simulation, Sports\n",
      "\n"
     ]
    },
    {
     "name": "stdin",
     "output_type": "stream",
     "text": [
      "Continue(Y/N)?  \n"
     ]
    },
    {
     "name": "stdout",
     "output_type": "stream",
     "text": [
      "Review #6/20\n",
      "EARTH DEFENSE FORCE 4.1 The Shadow of New Despair\n",
      "It's a fight for the future of the planet between the Ravagers, a merciless swarm of alien invaders, and the Earth Defense Force (EDF) in this third-person shooter.Play as four different classes in over 80 missions with a range of 800 weapons at your disposal.Co-op play supported.\n",
      "Genres: Action\n",
      "\n",
      "Review #7/20\n",
      "NEKOPARA Vol. 1\n",
      "What's NEKOPARA? Why, it's a cat paradise! Kashou Minaduki, the son of a long line of Japanese confection makers moved out to open his own shop \"La Soleil\" as a patisserie.\n",
      "Genres: Casual, Indie\n",
      "\n",
      "Review #8/20\n",
      "Please, Don’t Touch Anything\n",
      "A brain-racking game about bathroom breaks, screwdrivers and nuclear explosions.\n",
      "Genres: Casual, Indie\n",
      "\n",
      "Review #9/20\n",
      "Rust\n",
      "The only aim in Rust is to survive. Everything wants you to die - the island’s wildlife and other inhabitants, the environment, other survivors. Do whatever it takes to last another night.\n",
      "Genres: Action, Adventure, Indie, Massively Multiplayer, RPG\n",
      "\n",
      "Review #10/20\n",
      "Bot Vice\n",
      "Show off your skills & reflexes in this frantic gallery shooter action arcade, filled with bullets, bots and explosions! You play as Erin Saver, carrying out her personal vendetta against the criminal Wildbots.\n",
      "Genres: Action, Adventure, Indie\n",
      "\n"
     ]
    },
    {
     "name": "stdin",
     "output_type": "stream",
     "text": [
      "Continue(Y/N)?  \n"
     ]
    },
    {
     "name": "stdout",
     "output_type": "stream",
     "text": [
      "Review #11/20\n",
      "LET IT DIE\n",
      "It's finally here! The survival action game that pits the strong against the weak is finally on PC! Experience all the heart-thumping action with a silky-smooth frame rate and ultra high resolution. How you make the best of the weapons, armor, and items at your disposal will determine your fate in the ever-changing \"Tower of Barbs!\n",
      "Genres: Action, Free to Play\n",
      "\n",
      "Review #12/20\n",
      "LET IT DIE -(Special)50 Death Metals- 001\n",
      "Genres: Action, Free to Play\n",
      "\n",
      "Review #13/20\n",
      "Blade and Sorcery\n",
      "Blade & Sorcery is a built-for-VR medieval fantasy sandbox with full physics driven melee, ranged and magic combat. Become a powerful warrior, ranger or sorcerer and devastate your enemies.\n",
      "Genres: Action, Adventure, Indie, RPG, Simulation, Early Access\n",
      "\n",
      "Review #14/20\n",
      "SUPERHOT\n",
      "SUPERHOT is the smash-hit FPS where time moves only when you move. No regenerating health bars. No conveniently placed ammo drops. It's you, alone, outnumbered and outgunned. Snatch weapons from fallen enemies to shoot, slice and dodge through a truly cinematic hurricane of slow-motion bullets.\n",
      "Genres: Action, Indie\n",
      "\n",
      "Review #15/20\n",
      "The Thrill of the Fight - VR Boxing\n",
      "The Thrill of the Fight is a room-scale only VR boxing game focused on authenticity. Face off in the virtual ring where you'll jab, dodge, and sweat your way to the top of the boxing world. Grab your gloves, step through the ropes, and become a champion.\n",
      "Genres: Action, Sports\n",
      "\n"
     ]
    },
    {
     "name": "stdin",
     "output_type": "stream",
     "text": [
      "Continue(Y/N)?  \n"
     ]
    },
    {
     "name": "stdout",
     "output_type": "stream",
     "text": [
      "Review #16/20\n",
      "PAYDAY 2 VR\n",
      "Genres: Action, RPG\n",
      "\n",
      "Review #17/20\n",
      "GORN\n",
      "GORN is a ludicrously violent VR gladiator simulator, made by Free Lives, the developers of Broforce and Genital Jousting.\n",
      "Genres: Action, Indie\n",
      "\n",
      "Review #18/20\n",
      "Karate Master 2 Knock Down Blow\n",
      "Karate Master 2 Knock Down Blow is a fighting game that mixes elements of RPG, simulation and arcade, in an explosive combination to relieve the Beat'em up genre!\n",
      "Genres: Action, Indie, RPG, Sports\n",
      "\n",
      "Review #19/20\n",
      "PAYDAY 2\n",
      "PAYDAY 2 is an action-packed, four-player co-op shooter that once again lets gamers don the masks of the original PAYDAY crew - Dallas, Hoxton, Wolf and Chains - as they descend on Washington DC for an epic crime spree.\n",
      "Genres: Action, RPG\n",
      "\n",
      "Review #20/20\n",
      "Star Wars: Battlefront 2 (Classic, 2005)\n",
      "Join the rise of Darth Vader’s elite 501st Legion of Stormtroopers as you fight through an all new story-based saga where every action you take impacts the battlefront and, ultimately, the fate of the Star Wars galaxy.\n",
      "Genres: Action\n",
      "\n"
     ]
    },
    {
     "name": "stdin",
     "output_type": "stream",
     "text": [
      "Continue(Y/N)?  \n"
     ]
    }
   ],
   "source": [
    "%reload_ext autoreload\n",
    "%autoreload 2\n",
    "from modules import utils\n",
    "from modules.scrape import get_game_details_from_appID, get_appID\n",
    "from modules.scrapereview import get_reviews\n",
    "\n",
    "steamID = input(\"Input SteamID: \")\n",
    "reviews = get_reviews(steamID)\n",
    "i = 1\n",
    "for review in reviews:\n",
    "    appName, appDesc, genres = get_game_details_from_appID(review.a['href'].split('/')[6])\n",
    "    try:\n",
    "        appName = appName.string\n",
    "        appDesc = appDesc.string.strip()\n",
    "        print(f\"Review #{i}/{len(reviews)}\")\n",
    "        print(appName)\n",
    "        print(appDesc)\n",
    "        print(f\"Genres: {', '.join(genres)}\\n\")\n",
    "    except AttributeError:\n",
    "        print(f\"Review #{i}/{len(reviews)}\")\n",
    "        print(appName)\n",
    "        print(f\"Genres: {', '.join(genres)}\\n\")\n",
    "    if i % 5 == 0 and i < len(reviews)-2:\n",
    "        input(\"Continue(Y/N)? \")\n",
    "    i += 1"
   ]
  },
  {
   "cell_type": "code",
   "execution_count": null,
   "id": "86c7b990",
   "metadata": {},
   "outputs": [],
   "source": []
  }
 ],
 "metadata": {
  "kernelspec": {
   "display_name": "Python 3 (ipykernel)",
   "language": "python",
   "name": "python3"
  },
  "language_info": {
   "codemirror_mode": {
    "name": "ipython",
    "version": 3
   },
   "file_extension": ".py",
   "mimetype": "text/x-python",
   "name": "python",
   "nbconvert_exporter": "python",
   "pygments_lexer": "ipython3",
   "version": "3.10.6"
  }
 },
 "nbformat": 4,
 "nbformat_minor": 5
}
