{
 "cells": [
  {
   "cell_type": "code",
   "execution_count": 17,
   "id": "502e67d2-6dec-42ca-9cf4-a71470e44574",
   "metadata": {},
   "outputs": [],
   "source": [
    "import pandas as pd\n",
    "import nltk\n",
    "from nltk.corpus import stopwords\n",
    "from nltk.stem import WordNetLemmatizer\n",
    "from nltk.tokenize import word_tokenize\n",
    "import string\n",
    "from sklearn.feature_extraction.text import CountVectorizer\n",
    "\n",
    "# Read the CSV file into a DataFrame\n",
    "df = pd.read_csv('steam_games.csv')\n",
    "\n",
    "# Remove records with 'N/A' values in any column\n",
    "df = df.dropna()\n",
    "\n",
    "# Remove records with empty brackets in the 'genres' column\n",
    "df = df[df['Genre'] != '[]']\n",
    "\n",
    "# Reset the index of the DataFrame\n",
    "df = df.reset_index(drop=True)\n",
    "\n",
    "# Save the updated DataFrame to a new CSV file\n",
    "df.to_csv('updated_steam_games.csv', index=False)"
   ]
  },
  {
   "cell_type": "code",
   "execution_count": 21,
   "id": "a365e624-79f1-4cad-ab03-8c8cdbed8a7b",
   "metadata": {},
   "outputs": [],
   "source": [
    "# Download NLTK resources (required for tokenization and stopwords)\n",
    "nltk.download('punkt')\n",
    "nltk.download('stopwords')\n",
    "nltk.download('wordnet')\n",
    "\n",
    "# Initialize lemmatizer and stopwords\n",
    "lemmatizer = WordNetLemmatizer()\n",
    "stop_words = set(stopwords.words('english'))\n",
    "\n",
    "# Preprocessing function\n",
    "def preprocess_text(text):\n",
    "    # Lowercase\n",
    "    text = text.lower()\n",
    "    \n",
    "    # Tokenization\n",
    "    tokens = word_tokenize(text)\n",
    "    \n",
    "    # Stopword removal and lemmatization\n",
    "    tokens = [lemmatizer.lemmatize(token) for token in tokens if token not in stop_words]\n",
    "    \n",
    "    # Remove special characters and punctuation\n",
    "    tokens = [token for token in tokens if token not in string.punctuation]\n",
    "    \n",
    "    # Join tokens back into text\n",
    "    processed_text = ' '.join(tokens)\n",
    "    \n",
    "    return processed_text\n",
    "\n",
    "# Apply preprocessing to the 'description' column\n",
    "df['Processed_Description'] = df['Description'].apply(preprocess_text)\n",
    "\n",
    "# Save the updated DataFrame to a new CSV file\n",
    "df.to_csv('preprocessed_data.csv', index=False)"
   ]
  },
  {
   "cell_type": "code",
   "execution_count": 25,
   "id": "bfd1e5ec-2a58-4e93-abee-6a7bedbf77e6",
   "metadata": {},
   "outputs": [],
   "source": [
    "# Load your DataFrame with the 'Processed_Description' column\n",
    "df = pd.read_csv('preprocessed_data.csv')\n",
    "\n",
    "# Initialize the CountVectorizer\n",
    "vectorizer = CountVectorizer()\n",
    "\n",
    "# Fit the CountVectorizer on the 'Processed_Description' column\n",
    "vectorizer.fit(df['Processed_Description'])\n",
    "\n",
    "# Transform the 'Processed_Description' column into a numeric feature matrix\n",
    "X = vectorizer.transform(df['Processed_Description'])\n",
    "\n",
    "# Convert the sparse matrix to a dense matrix and create a new DataFrame\n",
    "df_numeric = pd.DataFrame(X.toarray(), columns=vectorizer.get_feature_names_out())\n",
    "\n",
    "# Concatenate the new numeric DataFrame with the original DataFrame\n",
    "df_final = pd.concat([df, df_numeric], axis=1)\n",
    "\n",
    "# Save the final DataFrame to a new CSV file\n",
    "df_final.to_csv('numeric_data.csv', index=False)"
   ]
  },
  {
   "cell_type": "code",
   "execution_count": null,
   "id": "36f6f1b1-0422-43f4-8848-274bad4e6e3b",
   "metadata": {},
   "outputs": [],
   "source": []
  }
 ],
 "metadata": {
  "kernelspec": {
   "display_name": "Python 3 (ipykernel)",
   "language": "python",
   "name": "python3"
  },
  "language_info": {
   "codemirror_mode": {
    "name": "ipython",
    "version": 3
   },
   "file_extension": ".py",
   "mimetype": "text/x-python",
   "name": "python",
   "nbconvert_exporter": "python",
   "pygments_lexer": "ipython3",
   "version": "3.10.8"
  }
 },
 "nbformat": 4,
 "nbformat_minor": 5
}
