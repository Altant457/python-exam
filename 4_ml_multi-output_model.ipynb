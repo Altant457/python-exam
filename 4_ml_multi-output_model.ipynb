{
 "cells": [
  {
   "cell_type": "code",
   "execution_count": 12,
   "id": "e3657fac-6b3a-4917-9360-b70c08db11e2",
   "metadata": {},
   "outputs": [
    {
     "name": "stdout",
     "output_type": "stream",
     "text": [
      "32\n",
      "[' ' \"'\" ',' 'A' 'C' 'E' 'F' 'G' 'I' 'M' 'P' 'R' 'S' '[' ']' 'a' 'c' 'd'\n",
      " 'e' 'g' 'i' 'l' 'm' 'n' 'o' 'p' 'r' 's' 't' 'u' 'v' 'y']\n"
     ]
    }
   ],
   "source": [
    "import pandas as pd\n",
    "from sklearn.preprocessing import MultiLabelBinarizer\n",
    "from sklearn.model_selection import train_test_split\n",
    "from sklearn.multioutput import MultiOutputClassifier\n",
    "from sklearn.ensemble import RandomForestClassifier\n",
    "import numpy as np\n",
    "import matplotlib.pyplot as plt\n",
    "\n",
    "df = pd.read_csv('numeric_data.csv')\n",
    "\n",
    "# Split the data into X (features) and y (target variable)\n",
    "X = df.drop(['Title', 'Description', 'Genre', 'Processed_Description'], axis=1)  # Features: Numeric features\n",
    "y = df['Genre']  # Target variable: Genre column\n",
    "\n",
    "# Create an instance of MultiLabelBinarizer\n",
    "mlb = MultiLabelBinarizer()\n",
    "\n",
    "# Fit and transform the multi-label data\n",
    "y_encoded = mlb.fit_transform(y)\n",
    "\n",
    "# Print the shape of the encoded labels\n",
    "print(y_encoded.shape[1])\n",
    "\n",
    "# Get the generated class labels\n",
    "genre_labels = mlb.classes_\n",
    "print(genre_labels)\n",
    "\n",
    "# Split the data into training and testing sets\n",
    "X_train, X_test, y_train, y_test = train_test_split(X, y_encoded, test_size=0.2, random_state=42)"
   ]
  },
  {
   "cell_type": "markdown",
   "id": "cd63fe05-d0ff-4dab-a313-d7d17bfdd6b6",
   "metadata": {},
   "source": [
    "### Multi-Output Models: Multi-Output models, such as multi-output classifiers or regressors, extend traditional single-output models to handle multiple labels simultaneously. These models generate a separate output for each label and consider correlations between labels during training."
   ]
  },
  {
   "cell_type": "code",
   "execution_count": 13,
   "id": "ec77a6ca-3b2e-4962-abf9-48fc29b4a99c",
   "metadata": {},
   "outputs": [
    {
     "name": "stdout",
     "output_type": "stream",
     "text": [
      "                                                Actual  \\\n",
      "0    ( , ', ,, A, C, F, I, P, [, ], a, d, e, i, l, ...   \n",
      "1     ( , ', ,, I, S, [, ], a, d, e, g, i, n, r, t, y)   \n",
      "2    ( , ', ,, A, G, I, P, R, [, ], d, e, i, n, r, ...   \n",
      "3        ( , ', ,, C, I, [, ], a, d, e, i, l, n, s, u)   \n",
      "4        ( , ', ,, C, I, [, ], a, d, e, i, l, n, s, u)   \n",
      "..                                                 ...   \n",
      "491                        (', A, [, ], c, i, n, o, t)   \n",
      "492  ( , ', ,, A, C, I, S, [, ], a, d, e, i, l, m, ...   \n",
      "493  ( , ', ,, C, I, S, [, ], a, d, e, g, i, l, m, ...   \n",
      "494      ( , ', ,, C, I, [, ], a, d, e, i, l, n, s, u)   \n",
      "495                           (', C, [, ], a, l, s, u)   \n",
      "\n",
      "                                             Predicted  \n",
      "0    ( , ', ,, A, I, [, ], a, d, e, i, l, n, r, t, ...  \n",
      "1    ( , ', ,, A, I, S, [, ], a, c, d, e, g, i, m, ...  \n",
      "2    ( , ', ,, A, I, [, ], a, d, e, i, l, n, r, t, ...  \n",
      "3     ( , ', ,, A, I, [, ], c, d, e, i, n, o, s, t, u)  \n",
      "4    ( , ', ,, A, I, [, ], a, d, e, i, l, n, o, r, ...  \n",
      "..                                                 ...  \n",
      "491      ( , ', ,, A, I, [, ], a, d, e, i, n, r, t, u)  \n",
      "492  ( , ', ,, A, C, I, S, [, ], a, d, e, i, l, m, ...  \n",
      "493  ( , ', ,, A, I, S, [, ], a, d, e, i, l, n, o, ...  \n",
      "494  ( , ', ,, A, C, I, [, ], a, c, d, e, i, l, n, ...  \n",
      "495         ( , ', ,, C, I, [, ], a, e, i, l, n, s, u)  \n",
      "\n",
      "[496 rows x 2 columns]\n"
     ]
    }
   ],
   "source": [
    "# Create an instance of the base classifier (e.g., RandomForestClassifier)\n",
    "base_classifier = RandomForestClassifier()\n",
    "\n",
    "# Create an instance of MultiOutputClassifier and pass the base classifier\n",
    "multi_output_classifier = MultiOutputClassifier(base_classifier)\n",
    "\n",
    "# Fit the multi-output classifier on the training data\n",
    "multi_output_classifier.fit(X_train, y_train)\n",
    "\n",
    "# Make predictions using the trained multi-output classifier\n",
    "y_pred = multi_output_classifier.predict(X_test)\n",
    "\n",
    "# Evaluate the performance of the multi-output classifier\n",
    "# You can use appropriate evaluation metrics based on your problem, such as accuracy, F1-score, etc.\n",
    "accuracy = multi_output_classifier.score(X_test, y_test)\n",
    "\n",
    "# Compare Predictions with Actual Labels\n",
    "# Compare the predicted labels (y_pred) with the actual labels (y_test) to see where the model's predictions match or differ from the ground truth.\n",
    "comparison = pd.DataFrame({'Actual': mlb.inverse_transform(y_test),\n",
    "                           'Predicted': mlb.inverse_transform(y_pred)})\n",
    "print(comparison)"
   ]
  },
  {
   "cell_type": "code",
   "execution_count": 14,
   "id": "61bf5cc2-3760-49fa-9bef-56c423776c52",
   "metadata": {},
   "outputs": [
    {
     "data": {
      "image/png": "[encoded data removed]",
      "text/plain": [
       "<Figure size 1000x600 with 1 Axes>"
      ]
     },
     "metadata": {},
     "output_type": "display_data"
    }
   ],
   "source": [
    "# Count the occurrences of each genre in the actual and predicted labels\n",
    "actual_counts = np.sum(y_test, axis=0)\n",
    "predicted_counts = np.sum(y_pred, axis=0)\n",
    "\n",
    "# Create the positions for the bars\n",
    "bar_width = 0.35\n",
    "index = np.arange(len(genre_labels))\n",
    "\n",
    "# Create a bar plot\n",
    "plt.figure(figsize=(10, 6))\n",
    "plt.bar(index, actual_counts, bar_width, label='Actual')\n",
    "plt.bar(index + bar_width, predicted_counts, bar_width, label='Predicted')\n",
    "plt.xlabel('Genre')\n",
    "plt.ylabel('Count')\n",
    "plt.title('Actual vs. Predicted Genre Counts')\n",
    "plt.legend()\n",
    "plt.xticks(index + bar_width / 2, genre_labels, rotation=90)\n",
    "plt.tight_layout()\n",
    "plt.show()"
   ]
  },
  {
   "cell_type": "code",
   "execution_count": 15,
   "id": "03b7fb87-063d-4d56-8e37-e68bd5795e4a",
   "metadata": {},
   "outputs": [
    {
     "name": "stdout",
     "output_type": "stream",
     "text": [
      "0.06653225806451613\n"
     ]
    }
   ],
   "source": [
    "print(accuracy)"
   ]
  },
  {
   "cell_type": "code",
   "execution_count": null,
   "id": "9fa61432-5117-4401-aea5-6acba1d29e69",
   "metadata": {},
   "outputs": [],
   "source": []
  }
 ],
 "metadata": {
  "kernelspec": {
   "display_name": "Python 3 (ipykernel)",
   "language": "python",
   "name": "python3"
  },
  "language_info": {
   "codemirror_mode": {
    "name": "ipython",
    "version": 3
   },
   "file_extension": ".py",
   "mimetype": "text/x-python",
   "name": "python",
   "nbconvert_exporter": "python",
   "pygments_lexer": "ipython3",
   "version": "3.10.8"
  }
 },
 "nbformat": 4,
 "nbformat_minor": 5
}
