{
 "cells": [
  {
   "cell_type": "code",
   "execution_count": 42,
   "id": "6a451d89-60d7-473d-8642-f1c392f27325",
   "metadata": {},
   "outputs": [],
   "source": [
    "import pandas as pd\n",
    "from sklearn.model_selection import train_test_split\n",
    "from sklearn.feature_extraction.text import TfidfVectorizer\n",
    "\n",
    "df = pd.read_csv(\"preprocessed_kaggle_multi_labels.csv\")\n",
    "\n",
    "X = df['processed_desc_snippet']  # Input features (preprocessed text)\n",
    "y = df.iloc[:, 3:-1]  # Output labels (binary genre columns)\n",
    "\n",
    "# Split the data into training and testing sets (80% for training, 20% for testing)\n",
    "X_train, X_test, y_train, y_test = train_test_split(X, y, test_size=0.2, random_state=42)\n",
    "\n",
    "# Convert the preprocessed text to a list of strings\n",
    "text_train = X_train.tolist()\n",
    "text_test = X_test.tolist()\n",
    "\n",
    "# Initialize TF-IDF vectorizer\n",
    "vectorizer = TfidfVectorizer()\n",
    "\n",
    "# Fit the vectorizer on the training data and transform the training and testing data\n",
    "X_train_tfidf = vectorizer.fit_transform(text_train)\n",
    "X_test_tfidf = vectorizer.transform(text_test)\n"
   ]
  },
  {
   "cell_type": "code",
   "execution_count": 43,
   "id": "93822f87-41c1-4bf5-88f7-df284afef854",
   "metadata": {},
   "outputs": [],
   "source": [
    "from sklearn.ensemble import RandomForestClassifier\n",
    "\n",
    "# Initialize the Random Forest classifier\n",
    "rf_classifier = RandomForestClassifier(n_estimators=100)\n",
    "\n",
    "# Train the classifier\n",
    "rf_classifier.fit(X_train_tfidf, y_train)\n",
    "\n",
    "# Predict on the test data\n",
    "y_pred = rf_classifier.predict(X_test_tfidf)\n"
   ]
  },
  {
   "cell_type": "code",
   "execution_count": 46,
   "id": "dbc6ca1d-31a5-4e8c-8585-aecd6d024203",
   "metadata": {},
   "outputs": [
    {
     "name": "stdout",
     "output_type": "stream",
     "text": [
      "Accuracy: 0.15\n"
     ]
    }
   ],
   "source": [
    "from sklearn.metrics import accuracy_score\n",
    "\n",
    "# Calculate evaluation metrics\n",
    "accuracy = accuracy_score(y_test, y_pred)\n",
    "print(\"Accuracy:\", accuracy)"
   ]
  },
  {
   "cell_type": "code",
   "execution_count": null,
   "id": "9145f4b6-5324-4013-ad0a-b194aefd11c9",
   "metadata": {},
   "outputs": [],
   "source": []
  }
 ],
 "metadata": {
  "kernelspec": {
   "display_name": "Python 3 (ipykernel)",
   "language": "python",
   "name": "python3"
  },
  "language_info": {
   "codemirror_mode": {
    "name": "ipython",
    "version": 3
   },
   "file_extension": ".py",
   "mimetype": "text/x-python",
   "name": "python",
   "nbconvert_exporter": "python",
   "pygments_lexer": "ipython3",
   "version": "3.10.8"
  }
 },
 "nbformat": 4,
 "nbformat_minor": 5
}
